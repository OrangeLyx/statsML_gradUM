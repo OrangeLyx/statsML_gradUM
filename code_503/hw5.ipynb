{
 "cells": [
  {
   "cell_type": "markdown",
   "id": "d948994a",
   "metadata": {},
   "source": [
    "Yanxin Luo"
   ]
  },
  {
   "cell_type": "markdown",
   "id": "06fcf081",
   "metadata": {},
   "source": [
    "Q1 (a)\n",
    "\n",
    "In bootstrap, the probability of getting a certain observation is equal each time(with replacement), that is, the probability of sampling any observation is $\\frac{1}{n}$. \n",
    "\n",
    "Thus, P( first time not picking $j$) = P(not picking $j$) = $1-\\frac{1}{n}$."
   ]
  },
  {
   "cell_type": "markdown",
   "id": "5b9729e4",
   "metadata": {},
   "source": [
    "Q1 (b)\n",
    "\n",
    "Same as (a).\n",
    "\n",
    "P( second time not picking $j$) = P(not picking $j$) = $1-\\frac{1}{n}$."
   ]
  },
  {
   "cell_type": "markdown",
   "id": "a440835c",
   "metadata": {},
   "source": [
    "Q1 (c)\n",
    "\n",
    "Since we sampled n times, and each sampling is independent, the probability that the jth observation was not selected in each sampling is $(1-\\frac{1}{n})^n$."
   ]
  },
  {
   "cell_type": "markdown",
   "id": "f8d92080",
   "metadata": {},
   "source": [
    "Q1 (d)\n",
    "\n",
    "P( jth observation in the bootstrap sample) = 1- P( jth observation not in the bootstrap sample) = $1-(1-\\frac{1}{5})^5 =0.67232 $."
   ]
  },
  {
   "cell_type": "markdown",
   "id": "24e1121a",
   "metadata": {},
   "source": [
    "Q1 (e)\n",
    "\n",
    "P( jth observation in the bootstrap sample)=$1-(1-\\frac{1}{100})^{100} \\approx 0.633967 $"
   ]
  },
  {
   "cell_type": "code",
   "execution_count": 4,
   "id": "dd0e0f4c",
   "metadata": {},
   "outputs": [
    {
     "name": "stdout",
     "output_type": "stream",
     "text": [
      "0.6339676587267709\n"
     ]
    }
   ],
   "source": [
    "n = 100\n",
    "p = 1 - (1 - 1/n)**n\n",
    "print(p)"
   ]
  },
  {
   "cell_type": "markdown",
   "id": "48e22586",
   "metadata": {},
   "source": [
    "Q1 (f)\n",
    "\n",
    "\n"
   ]
  },
  {
   "cell_type": "markdown",
   "id": "129c942d",
   "metadata": {},
   "source": [
    "P( jth observation in the bootstrap sample)=$1-(1-\\frac{1}{10000})^{10000} \\approx 0.6321389 $"
   ]
  },
  {
   "cell_type": "code",
   "execution_count": 5,
   "id": "767c0188",
   "metadata": {},
   "outputs": [
    {
     "name": "stdout",
     "output_type": "stream",
     "text": [
      "0.6321389535670295\n"
     ]
    }
   ],
   "source": [
    "n = 10000\n",
    "p = 1 - (1 - 1/n)**n\n",
    "print(p)"
   ]
  },
  {
   "cell_type": "markdown",
   "id": "c249a2a1",
   "metadata": {},
   "source": [
    "Q2\n",
    "\n",
    "1. Bootstrap Sampling\n",
    "\n",
    "    Randomly draw $B$ bootstrap samples from the original dataset with replacement. Each bootstrap sample $D_b$ has the same size $n$ as the original dataset but contains repeated observations. (e.g., $B=1000$)\n",
    "    \n",
    "\n",
    "2. Model Training \n",
    "\n",
    "    For each bootstrap sample $D_b$, train the statistical learning model (e.g., regression, decision tree). Use the trained model to make a prediction $\\hat{Y}_b$ for the given predictor value $X$.\n",
    "\n",
    "\n",
    "3. Estimate the Standard Deviation\n",
    "\n",
    "    Compute the standard deviation of these predictions: $\\hat{\\sigma_{Y}}=\\sqrt{\\frac{1}{B-1}\\sum_{b=1}^{B} (\\hat{Y}_b - \\bar{\\hat{Y}})^2}$  where $ \\bar{\\hat{Y}}$ is the mean of the bootstrap predictions.\n",
    "    \n"
   ]
  },
  {
   "cell_type": "markdown",
   "id": "5749e844",
   "metadata": {},
   "source": [
    "Q3 (a)\n",
    "\n",
    "n: the number of observations is 100.\n",
    "\n",
    "p: the number of features is 2.\n",
    "\n",
    "Equation: $y=x-2x^2+\\epsilon $ where $x \\sim \\mathcal{N}(0,1), \\epsilon \\sim \\mathcal{N}(0,1)$"
   ]
  },
  {
   "cell_type": "markdown",
   "id": "39a98183",
   "metadata": {},
   "source": [
    "Q3 (b)"
   ]
  },
  {
   "cell_type": "code",
   "execution_count": 6,
   "id": "3fe5b3a0",
   "metadata": {},
   "outputs": [
    {
     "data": {
      "image/png": "[encoded data removed]",
      "text/plain": [
       "<Figure size 504x360 with 1 Axes>"
      ]
     },
     "metadata": {
      "needs_background": "light"
     },
     "output_type": "display_data"
    }
   ],
   "source": [
    "import numpy as np\n",
    "import matplotlib.pyplot as plt\n",
    "\n",
    "rng = np.random.default_rng(1)\n",
    "x=rng.normal(size=100)\n",
    "y=x-2*x**2+rng.normal(size=100)\n",
    "\n",
    "plt.figure(figsize=(7,5))\n",
    "plt.scatter(x,y,alpha=0.75)\n",
    "plt.xlabel(\"x\")\n",
    "plt.ylabel(\"y\")\n",
    "plt.title(\"Scatterplot of x vs y\")\n",
    "plt.show()"
   ]
  },
  {
   "cell_type": "markdown",
   "id": "0e22c8f3",
   "metadata": {},
   "source": [
    "Q3 (c)"
   ]
  },
  {
   "cell_type": "code",
   "execution_count": 7,
   "id": "f160b047",
   "metadata": {},
   "outputs": [
    {
     "name": "stdout",
     "output_type": "stream",
     "text": [
      "Degree 1: Average MSE = 5.521709904311949\n",
      "Degree 2: Average MSE = 2.097408500923659e-30\n",
      "Degree 3: Average MSE = 4.296776219908303e-30\n",
      "Degree 4: Average MSE = 1.677746662389254e-29\n"
     ]
    },
    {
     "data": {
      "image/png": "[encoded data removed]",
      "text/plain": [
       "<Figure size 504x360 with 1 Axes>"
      ]
     },
     "metadata": {
      "needs_background": "light"
     },
     "output_type": "display_data"
    }
   ],
   "source": [
    "import numpy as np\n",
    "import matplotlib.pyplot as plt\n",
    "from sklearn.model_selection import KFold\n",
    "from sklearn.preprocessing import PolynomialFeatures\n",
    "from sklearn.linear_model import LinearRegression\n",
    "from sklearn.metrics import mean_squared_error\n",
    "\n",
    "\n",
    "rng = np.random.default_rng(1)\n",
    "x=rng.normal(size=100).reshape(-1, 1)\n",
    "y=x-2*x**2+rng.normal(size=100)\n",
    "\n",
    "kf = KFold(n_splits=5,random_state=3,shuffle=True)\n",
    "\n",
    "degrees = [1,2,3,4]\n",
    "mse_results={}\n",
    "\n",
    "for degree in degrees:\n",
    "    mse_list = []\n",
    "    \n",
    "    for train_index, valid_index in kf.split(x):\n",
    "        x_train, x_valid = x[train_index], x[valid_index]\n",
    "        y_train, y_valid = y[train_index], y[valid_index]\n",
    "        \n",
    "        poly = PolynomialFeatures(degree)\n",
    "        x_train_poly = poly.fit_transform(x_train)\n",
    "        x_valid_poly = poly.transform(x_valid)\n",
    "        \n",
    "        model = LinearRegression()\n",
    "        model.fit(x_train_poly, y_train)\n",
    "        \n",
    "        y_pred = model.predict(x_valid_poly)\n",
    "        mse = mean_squared_error(y_valid, y_pred)\n",
    "        mse_list.append(mse)\n",
    "    \n",
    "    mse_results[degree] = np.mean(mse_list)\n",
    "\n",
    "for degree, mse in mse_results.items():\n",
    "    print(f\"Degree {degree}: Average MSE = {mse}\")\n",
    "\n",
    "plt.figure(figsize=(7,5))\n",
    "plt.plot(degrees, list(mse_results.values()), marker='o', linestyle='-',color=\"green\")\n",
    "plt.xticks(degrees)\n",
    "plt.xlabel(\"Polynomial Degree\")\n",
    "plt.ylabel(\"Average MSE\")\n",
    "plt.title(\"Model Complexity vs. Cross-Validation MSE\")\n",
    "plt.grid(True)\n",
    "plt.show()"
   ]
  },
  {
   "cell_type": "markdown",
   "id": "8836d072",
   "metadata": {},
   "source": [
    "The second model has the smallest average error. The degree of its features is the same as the simulation model."
   ]
  },
  {
   "cell_type": "markdown",
   "id": "d68feb4f",
   "metadata": {},
   "source": [
    "Q4 \n",
    "\n",
    "False. Given the same dataset, LOOCV always produces the same train-test splits, regardless of a random seed."
   ]
  },
  {
   "cell_type": "markdown",
   "id": "93b43d40",
   "metadata": {},
   "source": [
    "Q5 (a)\n"
   ]
  },
  {
   "cell_type": "code",
   "execution_count": 8,
   "id": "b57b8291",
   "metadata": {},
   "outputs": [
    {
     "name": "stderr",
     "output_type": "stream",
     "text": [
      "E:\\ana\\lib\\site-packages\\pandas\\core\\computation\\expressions.py:21: UserWarning: Pandas requires version '2.8.4' or newer of 'numexpr' (version '2.8.1' currently installed).\n",
      "  from pandas.core.computation.check import NUMEXPR_INSTALLED\n",
      "E:\\ana\\lib\\site-packages\\pandas\\core\\arrays\\masked.py:60: UserWarning: Pandas requires version '1.3.6' or newer of 'bottleneck' (version '1.3.4' currently installed).\n",
      "  from pandas.core import (\n"
     ]
    }
   ],
   "source": [
    "import pandas as pd\n",
    "boston=pd.read_csv(\"./dataset/boston.csv\")"
   ]
  },
  {
   "cell_type": "code",
   "execution_count": 9,
   "id": "453ac4f6",
   "metadata": {},
   "outputs": [
    {
     "name": "stdout",
     "output_type": "stream",
     "text": [
      "Mean of medv is 22.532806324110677.\n"
     ]
    }
   ],
   "source": [
    "mu_hat=boston[\"medv\"].mean()\n",
    "print(f\"Mean of medv is {mu_hat}.\")"
   ]
  },
  {
   "cell_type": "markdown",
   "id": "c1a809c0",
   "metadata": {},
   "source": [
    "Q5 (b)"
   ]
  },
  {
   "cell_type": "code",
   "execution_count": 10,
   "id": "47fd0a11",
   "metadata": {},
   "outputs": [
    {
     "name": "stdout",
     "output_type": "stream",
     "text": [
      "Standard error of mu is 0.40886114749753505.\n"
     ]
    }
   ],
   "source": [
    "import numpy as np\n",
    "sample_std = np.std(boston['medv'],ddof=1) \n",
    "n=len(boston[\"medv\"])\n",
    "se_mu_hat = sample_std/np.sqrt(n)\n",
    "print(f\"Standard error of mu is {se_mu_hat}.\")"
   ]
  },
  {
   "cell_type": "markdown",
   "id": "16d29e4f",
   "metadata": {},
   "source": [
    "Q5 (c)\n",
    "\n",
    "Bootstrap provides an empirical check for the formula-based SE."
   ]
  },
  {
   "cell_type": "code",
   "execution_count": 11,
   "id": "18d437a7",
   "metadata": {},
   "outputs": [
    {
     "name": "stdout",
     "output_type": "stream",
     "text": [
      "Standard error of bootstrap mu is 0.4183811744924025.\n"
     ]
    }
   ],
   "source": [
    "samples=1000\n",
    "bootstrap_means=[]\n",
    "for _ in range(samples):\n",
    "    sample=boston['medv'].sample(frac=1,replace=True) \n",
    "    bootstrap_means.append(np.mean(sample))\n",
    "bootstrap_se = np.std(bootstrap_means, ddof=1)\n",
    "print(f\"Standard error of bootstrap mu is {bootstrap_se}.\")"
   ]
  },
  {
   "cell_type": "markdown",
   "id": "93f60867",
   "metadata": {},
   "source": [
    "Q5 (d)"
   ]
  },
  {
   "cell_type": "code",
   "execution_count": 12,
   "id": "26ffb70b",
   "metadata": {},
   "outputs": [
    {
     "name": "stdout",
     "output_type": "stream",
     "text": [
      "CI for mu in bootstrap is [21.69604397512587,23.369568673095483].\n",
      "CI for mu in std() is [21.715084029115605,23.35052861910575].\n"
     ]
    }
   ],
   "source": [
    "lower=mu_hat-2*bootstrap_se\n",
    "upper=mu_hat+2*bootstrap_se\n",
    "print(f\"CI for mu in bootstrap is [{lower},{upper}].\")\n",
    "\n",
    "lower_2=mu_hat-2*se_mu_hat\n",
    "upper_2=mu_hat+2*se_mu_hat\n",
    "print(f\"CI for mu in std() is [{lower_2},{upper_2}].\")"
   ]
  },
  {
   "cell_type": "markdown",
   "id": "6c21ae6f",
   "metadata": {},
   "source": [
    "Q5 (e)"
   ]
  },
  {
   "cell_type": "code",
   "execution_count": 13,
   "id": "6c3312f8",
   "metadata": {},
   "outputs": [
    {
     "name": "stdout",
     "output_type": "stream",
     "text": [
      "The median value of medv in the population is 21.2.\n"
     ]
    }
   ],
   "source": [
    "medv_median= np.median(boston[\"medv\"])\n",
    "print(f\"The median value of medv in the population is {medv_median}.\")"
   ]
  },
  {
   "cell_type": "markdown",
   "id": "c22da554",
   "metadata": {},
   "source": [
    "Q5 (f)"
   ]
  },
  {
   "cell_type": "code",
   "execution_count": 14,
   "id": "0ad2af1b",
   "metadata": {},
   "outputs": [
    {
     "name": "stdout",
     "output_type": "stream",
     "text": [
      "the standard error of the median using the bootstrap is 0.39771963743320465.\n"
     ]
    }
   ],
   "source": [
    "bootstrap_medians = []\n",
    "n_bootstrap=1000\n",
    "\n",
    "for _ in range(n_bootstrap):\n",
    "    # Sample with replacement\n",
    "    bootstrap_sample = np.random.choice(boston[\"medv\"], size=len(boston[\"medv\"]), replace=True)\n",
    "    bootstrap_medians.append(np.median(bootstrap_sample))\n",
    "\n",
    "median_se=np.std(bootstrap_medians)\n",
    "print(f\"the standard error of the median using the bootstrap is {median_se}.\")"
   ]
  },
  {
   "cell_type": "markdown",
   "id": "0a8c1a41",
   "metadata": {},
   "source": [
    "Q5 (g)"
   ]
  },
  {
   "cell_type": "code",
   "execution_count": 15,
   "id": "bbd4c29f",
   "metadata": {},
   "outputs": [
    {
     "name": "stdout",
     "output_type": "stream",
     "text": [
      "The tenth percentile of medv in Boston is 12.75.\n"
     ]
    }
   ],
   "source": [
    "medv_10= np.percentile(boston[\"medv\"], 10)\n",
    "print(f\"The tenth percentile of medv in Boston is {medv_10}.\")"
   ]
  },
  {
   "cell_type": "markdown",
   "id": "6420382b",
   "metadata": {},
   "source": [
    "Q5 (h)"
   ]
  },
  {
   "cell_type": "code",
   "execution_count": 16,
   "id": "bffa12a6",
   "metadata": {},
   "outputs": [
    {
     "name": "stdout",
     "output_type": "stream",
     "text": [
      "The standard error of medv_10 is 0.4951643666501054 using bootstrap.\n"
     ]
    }
   ],
   "source": [
    "n_bootstrap = 1000\n",
    "bootstrap_estimates = []\n",
    "\n",
    "for _ in range(n_bootstrap):\n",
    "    sample = boston[\"medv\"].sample(frac=1, replace=True)\n",
    "    bootstrap_estimates.append(np.percentile(sample, 10))\n",
    "\n",
    "per_se_bootstrap= np.std(bootstrap_estimates)\n",
    "print(f\"The standard error of medv_10 is {per_se_bootstrap} using bootstrap.\")"
   ]
  },
  {
   "cell_type": "markdown",
   "id": "c9d592b0",
   "metadata": {},
   "source": [
    "Q6 (a)"
   ]
  },
  {
   "cell_type": "code",
   "execution_count": 17,
   "id": "bf254aba",
   "metadata": {},
   "outputs": [],
   "source": [
    "import pandas as pd\n",
    "weekly=pd.read_csv(\"./dataset/weekly.csv\")"
   ]
  },
  {
   "cell_type": "code",
   "execution_count": 18,
   "id": "75d01336",
   "metadata": {},
   "outputs": [],
   "source": [
    "X=weekly[[\"Lag1\",\"Lag2\"]]\n",
    "y=weekly[\"Direction\"].map({\"Up\":1,\"Down\":0})"
   ]
  },
  {
   "cell_type": "code",
   "execution_count": 19,
   "id": "13aead95",
   "metadata": {},
   "outputs": [
    {
     "data": {
      "text/html": [
       "<style>#sk-container-id-1 {color: black;background-color: white;}#sk-container-id-1 pre{padding: 0;}#sk-container-id-1 div.sk-toggleable {background-color: white;}#sk-container-id-1 label.sk-toggleable__label {cursor: pointer;display: block;width: 100%;margin-bottom: 0;padding: 0.3em;box-sizing: border-box;text-align: center;}#sk-container-id-1 label.sk-toggleable__label-arrow:before {content: \"▸\";float: left;margin-right: 0.25em;color: #696969;}#sk-container-id-1 label.sk-toggleable__label-arrow:hover:before {color: black;}#sk-container-id-1 div.sk-estimator:hover label.sk-toggleable__label-arrow:before {color: black;}#sk-container-id-1 div.sk-toggleable__content {max-height: 0;max-width: 0;overflow: hidden;text-align: left;background-color: #f0f8ff;}#sk-container-id-1 div.sk-toggleable__content pre {margin: 0.2em;color: black;border-radius: 0.25em;background-color: #f0f8ff;}#sk-container-id-1 input.sk-toggleable__control:checked~div.sk-toggleable__content {max-height: 200px;max-width: 100%;overflow: auto;}#sk-container-id-1 input.sk-toggleable__control:checked~label.sk-toggleable__label-arrow:before {content: \"▾\";}#sk-container-id-1 div.sk-estimator input.sk-toggleable__control:checked~label.sk-toggleable__label {background-color: #d4ebff;}#sk-container-id-1 div.sk-label input.sk-toggleable__control:checked~label.sk-toggleable__label {background-color: #d4ebff;}#sk-container-id-1 input.sk-hidden--visually {border: 0;clip: rect(1px 1px 1px 1px);clip: rect(1px, 1px, 1px, 1px);height: 1px;margin: -1px;overflow: hidden;padding: 0;position: absolute;width: 1px;}#sk-container-id-1 div.sk-estimator {font-family: monospace;background-color: #f0f8ff;border: 1px dotted black;border-radius: 0.25em;box-sizing: border-box;margin-bottom: 0.5em;}#sk-container-id-1 div.sk-estimator:hover {background-color: #d4ebff;}#sk-container-id-1 div.sk-parallel-item::after {content: \"\";width: 100%;border-bottom: 1px solid gray;flex-grow: 1;}#sk-container-id-1 div.sk-label:hover label.sk-toggleable__label {background-color: #d4ebff;}#sk-container-id-1 div.sk-serial::before {content: \"\";position: absolute;border-left: 1px solid gray;box-sizing: border-box;top: 0;bottom: 0;left: 50%;z-index: 0;}#sk-container-id-1 div.sk-serial {display: flex;flex-direction: column;align-items: center;background-color: white;padding-right: 0.2em;padding-left: 0.2em;position: relative;}#sk-container-id-1 div.sk-item {position: relative;z-index: 1;}#sk-container-id-1 div.sk-parallel {display: flex;align-items: stretch;justify-content: center;background-color: white;position: relative;}#sk-container-id-1 div.sk-item::before, #sk-container-id-1 div.sk-parallel-item::before {content: \"\";position: absolute;border-left: 1px solid gray;box-sizing: border-box;top: 0;bottom: 0;left: 50%;z-index: -1;}#sk-container-id-1 div.sk-parallel-item {display: flex;flex-direction: column;z-index: 1;position: relative;background-color: white;}#sk-container-id-1 div.sk-parallel-item:first-child::after {align-self: flex-end;width: 50%;}#sk-container-id-1 div.sk-parallel-item:last-child::after {align-self: flex-start;width: 50%;}#sk-container-id-1 div.sk-parallel-item:only-child::after {width: 0;}#sk-container-id-1 div.sk-dashed-wrapped {border: 1px dashed gray;margin: 0 0.4em 0.5em 0.4em;box-sizing: border-box;padding-bottom: 0.4em;background-color: white;}#sk-container-id-1 div.sk-label label {font-family: monospace;font-weight: bold;display: inline-block;line-height: 1.2em;}#sk-container-id-1 div.sk-label-container {text-align: center;}#sk-container-id-1 div.sk-container {/* jupyter's `normalize.less` sets `[hidden] { display: none; }` but bootstrap.min.css set `[hidden] { display: none !important; }` so we also need the `!important` here to be able to override the default hidden behavior on the sphinx rendered scikit-learn.org. See: https://github.com/scikit-learn/scikit-learn/issues/21755 */display: inline-block !important;position: relative;}#sk-container-id-1 div.sk-text-repr-fallback {display: none;}</style><div id=\"sk-container-id-1\" class=\"sk-top-container\"><div class=\"sk-text-repr-fallback\"><pre>LogisticRegression()</pre><b>In a Jupyter environment, please rerun this cell to show the HTML representation or trust the notebook. <br />On GitHub, the HTML representation is unable to render, please try loading this page with nbviewer.org.</b></div><div class=\"sk-container\" hidden><div class=\"sk-item\"><div class=\"sk-estimator sk-toggleable\"><input class=\"sk-toggleable__control sk-hidden--visually\" id=\"sk-estimator-id-1\" type=\"checkbox\" checked><label for=\"sk-estimator-id-1\" class=\"sk-toggleable__label sk-toggleable__label-arrow\">LogisticRegression</label><div class=\"sk-toggleable__content\"><pre>LogisticRegression()</pre></div></div></div></div></div>"
      ],
      "text/plain": [
       "LogisticRegression()"
      ]
     },
     "execution_count": 19,
     "metadata": {},
     "output_type": "execute_result"
    }
   ],
   "source": [
    "from sklearn.linear_model import LogisticRegression\n",
    "log_reg = LogisticRegression()\n",
    "log_reg.fit(X, y)"
   ]
  },
  {
   "cell_type": "code",
   "execution_count": 20,
   "id": "2b9abeb3",
   "metadata": {},
   "outputs": [
    {
     "name": "stdout",
     "output_type": "stream",
     "text": [
      "Confusion Matrix:\n",
      " [[ 37 447]\n",
      " [ 38 567]]\n",
      "Accuracy: 0.5546372819100092\n"
     ]
    }
   ],
   "source": [
    "from sklearn.metrics import confusion_matrix, accuracy_score\n",
    "y_pred=log_reg.predict(X)\n",
    "conf_matrix=confusion_matrix(y,y_pred)\n",
    "accuracy=accuracy_score(y,y_pred)\n",
    "\n",
    "print(\"Confusion Matrix:\\n\", conf_matrix)\n",
    "print(\"Accuracy:\", accuracy)"
   ]
  },
  {
   "cell_type": "markdown",
   "id": "a4b61e9f",
   "metadata": {},
   "source": [
    "Q6 (b)"
   ]
  },
  {
   "cell_type": "code",
   "execution_count": 21,
   "id": "3cc1e481",
   "metadata": {},
   "outputs": [],
   "source": [
    "X= weekly.loc[1:, [\"Lag1\", \"Lag2\"]]\n",
    "y = weekly.loc[1:,\"Direction\"].map({\"Up\":1,\"Down\":0})"
   ]
  },
  {
   "cell_type": "code",
   "execution_count": 22,
   "id": "a34cc33f",
   "metadata": {},
   "outputs": [
    {
     "data": {
      "text/html": [
       "<style>#sk-container-id-2 {color: black;background-color: white;}#sk-container-id-2 pre{padding: 0;}#sk-container-id-2 div.sk-toggleable {background-color: white;}#sk-container-id-2 label.sk-toggleable__label {cursor: pointer;display: block;width: 100%;margin-bottom: 0;padding: 0.3em;box-sizing: border-box;text-align: center;}#sk-container-id-2 label.sk-toggleable__label-arrow:before {content: \"▸\";float: left;margin-right: 0.25em;color: #696969;}#sk-container-id-2 label.sk-toggleable__label-arrow:hover:before {color: black;}#sk-container-id-2 div.sk-estimator:hover label.sk-toggleable__label-arrow:before {color: black;}#sk-container-id-2 div.sk-toggleable__content {max-height: 0;max-width: 0;overflow: hidden;text-align: left;background-color: #f0f8ff;}#sk-container-id-2 div.sk-toggleable__content pre {margin: 0.2em;color: black;border-radius: 0.25em;background-color: #f0f8ff;}#sk-container-id-2 input.sk-toggleable__control:checked~div.sk-toggleable__content {max-height: 200px;max-width: 100%;overflow: auto;}#sk-container-id-2 input.sk-toggleable__control:checked~label.sk-toggleable__label-arrow:before {content: \"▾\";}#sk-container-id-2 div.sk-estimator input.sk-toggleable__control:checked~label.sk-toggleable__label {background-color: #d4ebff;}#sk-container-id-2 div.sk-label input.sk-toggleable__control:checked~label.sk-toggleable__label {background-color: #d4ebff;}#sk-container-id-2 input.sk-hidden--visually {border: 0;clip: rect(1px 1px 1px 1px);clip: rect(1px, 1px, 1px, 1px);height: 1px;margin: -1px;overflow: hidden;padding: 0;position: absolute;width: 1px;}#sk-container-id-2 div.sk-estimator {font-family: monospace;background-color: #f0f8ff;border: 1px dotted black;border-radius: 0.25em;box-sizing: border-box;margin-bottom: 0.5em;}#sk-container-id-2 div.sk-estimator:hover {background-color: #d4ebff;}#sk-container-id-2 div.sk-parallel-item::after {content: \"\";width: 100%;border-bottom: 1px solid gray;flex-grow: 1;}#sk-container-id-2 div.sk-label:hover label.sk-toggleable__label {background-color: #d4ebff;}#sk-container-id-2 div.sk-serial::before {content: \"\";position: absolute;border-left: 1px solid gray;box-sizing: border-box;top: 0;bottom: 0;left: 50%;z-index: 0;}#sk-container-id-2 div.sk-serial {display: flex;flex-direction: column;align-items: center;background-color: white;padding-right: 0.2em;padding-left: 0.2em;position: relative;}#sk-container-id-2 div.sk-item {position: relative;z-index: 1;}#sk-container-id-2 div.sk-parallel {display: flex;align-items: stretch;justify-content: center;background-color: white;position: relative;}#sk-container-id-2 div.sk-item::before, #sk-container-id-2 div.sk-parallel-item::before {content: \"\";position: absolute;border-left: 1px solid gray;box-sizing: border-box;top: 0;bottom: 0;left: 50%;z-index: -1;}#sk-container-id-2 div.sk-parallel-item {display: flex;flex-direction: column;z-index: 1;position: relative;background-color: white;}#sk-container-id-2 div.sk-parallel-item:first-child::after {align-self: flex-end;width: 50%;}#sk-container-id-2 div.sk-parallel-item:last-child::after {align-self: flex-start;width: 50%;}#sk-container-id-2 div.sk-parallel-item:only-child::after {width: 0;}#sk-container-id-2 div.sk-dashed-wrapped {border: 1px dashed gray;margin: 0 0.4em 0.5em 0.4em;box-sizing: border-box;padding-bottom: 0.4em;background-color: white;}#sk-container-id-2 div.sk-label label {font-family: monospace;font-weight: bold;display: inline-block;line-height: 1.2em;}#sk-container-id-2 div.sk-label-container {text-align: center;}#sk-container-id-2 div.sk-container {/* jupyter's `normalize.less` sets `[hidden] { display: none; }` but bootstrap.min.css set `[hidden] { display: none !important; }` so we also need the `!important` here to be able to override the default hidden behavior on the sphinx rendered scikit-learn.org. See: https://github.com/scikit-learn/scikit-learn/issues/21755 */display: inline-block !important;position: relative;}#sk-container-id-2 div.sk-text-repr-fallback {display: none;}</style><div id=\"sk-container-id-2\" class=\"sk-top-container\"><div class=\"sk-text-repr-fallback\"><pre>LogisticRegression()</pre><b>In a Jupyter environment, please rerun this cell to show the HTML representation or trust the notebook. <br />On GitHub, the HTML representation is unable to render, please try loading this page with nbviewer.org.</b></div><div class=\"sk-container\" hidden><div class=\"sk-item\"><div class=\"sk-estimator sk-toggleable\"><input class=\"sk-toggleable__control sk-hidden--visually\" id=\"sk-estimator-id-2\" type=\"checkbox\" checked><label for=\"sk-estimator-id-2\" class=\"sk-toggleable__label sk-toggleable__label-arrow\">LogisticRegression</label><div class=\"sk-toggleable__content\"><pre>LogisticRegression()</pre></div></div></div></div></div>"
      ],
      "text/plain": [
       "LogisticRegression()"
      ]
     },
     "execution_count": 22,
     "metadata": {},
     "output_type": "execute_result"
    }
   ],
   "source": [
    "log_reg2= LogisticRegression()\n",
    "log_reg2.fit(X,y)"
   ]
  },
  {
   "cell_type": "code",
   "execution_count": 23,
   "id": "99136821",
   "metadata": {},
   "outputs": [
    {
     "name": "stdout",
     "output_type": "stream",
     "text": [
      "Confusion Matrix:\n",
      " [[ 38 445]\n",
      " [ 37 568]]\n",
      "Accuracy: 0.5569852941176471\n"
     ]
    }
   ],
   "source": [
    "from sklearn.metrics import confusion_matrix, accuracy_score\n",
    "y_pred=log_reg2.predict(X)\n",
    "conf_matrix=confusion_matrix(y,y_pred)\n",
    "accuracy=accuracy_score(y,y_pred)\n",
    "\n",
    "print(\"Confusion Matrix:\\n\", conf_matrix)\n",
    "print(\"Accuracy:\", accuracy)"
   ]
  },
  {
   "cell_type": "markdown",
   "id": "8e9eb89b",
   "metadata": {},
   "source": [
    "Q6 (c)\n",
    "\n",
    "This observation was not correctly classified."
   ]
  },
  {
   "cell_type": "code",
   "execution_count": 24,
   "id": "b97501b5",
   "metadata": {},
   "outputs": [],
   "source": [
    "X_test= weekly.loc[[0],[\"Lag1\",\"Lag2\"]]  \n",
    "y_test= weekly.loc[[0],\"Direction\"].map({\"Up\":1,\"Down\":0})"
   ]
  },
  {
   "cell_type": "code",
   "execution_count": 25,
   "id": "db83c01f",
   "metadata": {},
   "outputs": [
    {
     "name": "stdout",
     "output_type": "stream",
     "text": [
      "Predicted Direction for first observation: Up\n",
      "Actual Direction: Down\n"
     ]
    }
   ],
   "source": [
    "y_pred = log_reg2.predict(X_test)\n",
    "print(\"Predicted Direction for first observation:\",\"Up\" if y_pred[0] == 1 else \"Down\")\n",
    "print(\"Actual Direction:\",\"Up\" if y_test.values[0] == 1 else \"Down\")"
   ]
  },
  {
   "cell_type": "markdown",
   "id": "c75d8587",
   "metadata": {},
   "source": [
    "Q6 (d)"
   ]
  },
  {
   "cell_type": "code",
   "execution_count": 26,
   "id": "6424b5c4",
   "metadata": {},
   "outputs": [],
   "source": [
    "X=weekly[[\"Lag1\", \"Lag2\"]]\n",
    "y=weekly[\"Direction\"].map({\"Up\":1,\"Down\":0})\n",
    "n=len(X)"
   ]
  },
  {
   "cell_type": "code",
   "execution_count": 27,
   "id": "fea95efa",
   "metadata": {},
   "outputs": [],
   "source": [
    "import numpy as np\n",
    "errors = np.zeros(n)\n",
    "for i in range(n):\n",
    "    X_train=X.drop(index=i)\n",
    "    y_train=y.drop(index=i)\n",
    "\n",
    "    X_test=X.iloc[[i]]\n",
    "    y_test=y.iloc[i]\n",
    "\n",
    "    model=LogisticRegression()\n",
    "    model.fit(X_train, y_train)\n",
    "\n",
    "    y_pred = model.predict(X_test)[0]\n",
    "    errors[i]=1 if y_pred!=y_test else 0"
   ]
  },
  {
   "cell_type": "markdown",
   "id": "8b3fb3ce",
   "metadata": {},
   "source": [
    "Q6 (e)\n",
    "\n",
    "Training with LOOCV failed to reduce the error rate on this dataset."
   ]
  },
  {
   "cell_type": "code",
   "execution_count": 28,
   "id": "0cc360b4",
   "metadata": {},
   "outputs": [
    {
     "name": "stdout",
     "output_type": "stream",
     "text": [
      "LOOCV Error Rate: 0.44995408631772266\n",
      "LOOCV Corrction Rate: 0.5500459136822773\n"
     ]
    }
   ],
   "source": [
    "loocv_error=errors.mean()\n",
    "print(\"LOOCV Error Rate:\", loocv_error)\n",
    "print(\"LOOCV Corrction Rate:\",1-loocv_error)"
   ]
  },
  {
   "cell_type": "code",
   "execution_count": null,
   "id": "82941882",
   "metadata": {},
   "outputs": [],
   "source": []
  }
 ],
 "metadata": {
  "kernelspec": {
   "display_name": "Python 3 (ipykernel)",
   "language": "python",
   "name": "python3"
  },
  "language_info": {
   "codemirror_mode": {
    "name": "ipython",
    "version": 3
   },
   "file_extension": ".py",
   "mimetype": "text/x-python",
   "name": "python",
   "nbconvert_exporter": "python",
   "pygments_lexer": "ipython3",
   "version": "3.9.12"
  }
 },
 "nbformat": 4,
 "nbformat_minor": 5
}
