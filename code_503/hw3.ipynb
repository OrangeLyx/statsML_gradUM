{
 "cells": [
  {
   "cell_type": "markdown",
   "id": "1342d379",
   "metadata": {},
   "source": [
    "Homework 3\n",
    "\n",
    "Yanxin Luo"
   ]
  },
  {
   "cell_type": "code",
   "execution_count": 31,
   "id": "691eb5b8",
   "metadata": {},
   "outputs": [],
   "source": [
    "# version of library\n",
    "# pandas==2.2.3\n",
    "# sklearn=1.2.2\n",
    "# numpy==1.26.4\n",
    "\n",
    "# Attention: Difference in library version may cause slight difference of answer."
   ]
  },
  {
   "cell_type": "markdown",
   "id": "bd797eac",
   "metadata": {},
   "source": [
    "Q1\n",
    "\n",
    "$1 - p(X) = \\frac{1 + e^{\\beta_0 + \\beta_1 X} - e^{\\beta_0 + \\beta_1 X}}{1 + e^{\\beta_0 + \\beta_1 X}} = \\frac{1}{1 + e^{\\beta_0 + \\beta_1 X}}$\n",
    "\n",
    "${1 + e^{\\beta_0 + \\beta_1 X}}=\\frac{1}{1 - p(X) }$\n",
    "\n",
    "$e^{\\beta_0 + \\beta_1 X}=\\frac{p(X)}{1 - p(X)}$\n"
   ]
  },
  {
   "cell_type": "markdown",
   "id": "ec1352f3",
   "metadata": {},
   "source": [
    "Q2 (a)\n",
    "\n",
    "Available observation percentage\n",
    "$(0.65-0.55)/(1-0)=0.1$"
   ]
  },
  {
   "cell_type": "markdown",
   "id": "b74f2ebb",
   "metadata": {},
   "source": [
    "Q2 (b)\n",
    "\n",
    "Available observation percentage\n",
    "$(0.65-0.55)*(0.4-0.3)/(1-0)*(1-0)=0.01$"
   ]
  },
  {
   "cell_type": "markdown",
   "id": "04fb1a43",
   "metadata": {},
   "source": [
    "Q2 (c)\n",
    "\n",
    "Available observation percentage\n",
    "$0.1^p$"
   ]
  },
  {
   "cell_type": "markdown",
   "id": "8a258663",
   "metadata": {},
   "source": [
    "Q2 (d)\n",
    "\n",
    "KNN makes predictions based on the closest training observations to a given test point. However, as the number of features $p$ increases, fraction of training observations that are \"near\" any given test observation decreases exponentially, making KNN increasingly ineffective."
   ]
  },
  {
   "cell_type": "markdown",
   "id": "93ef1f6a",
   "metadata": {},
   "source": [
    "Q2 (e)\n",
    "\n",
    "When p=1, length=$0.1$\n",
    "\n",
    "When p=2, length=$0.1^\\frac{1}{2}$\n",
    "\n",
    "When p=100, length=$0.1^\\frac{1}{100}$"
   ]
  },
  {
   "cell_type": "markdown",
   "id": "5966d0cd",
   "metadata": {},
   "source": [
    "Q3 (a)\n",
    "\n",
    "Odds: $\\frac{p(x)}{1 - p(x)}=0.37$\n",
    "\n",
    "$p(x)=\\frac{0.37}{1.37}\\approx{0.27007}$"
   ]
  },
  {
   "cell_type": "markdown",
   "id": "200f9462",
   "metadata": {},
   "source": [
    "Q3 (b)\n",
    "\n",
    "$p(x)=0.16$\n",
    "\n",
    "Odds: $\\frac{p(x)}{1 - p(x)}\\approx{0.1904}$"
   ]
  },
  {
   "cell_type": "markdown",
   "id": "60b60c5d",
   "metadata": {},
   "source": [
    "Q4 (a)\n",
    "\n",
    "Log odds of orange versus apple: $\\frac{\\hat{Pr}(Y=orange | X=x)}{1-\\hat{Pr}(Y=orange | X=x)}=exp(\\hat{\\beta}_0+\\hat{\\beta}_1*x)$\n",
    "\n",
    "$log(exp(\\hat{\\beta}_0+\\hat{\\beta}_1*x))=\\hat{\\beta}_0+\\hat{\\beta}_1*x$\n",
    "\n",
    "This result shows that my model assumes a linear relationship between log-odds and predictor."
   ]
  },
  {
   "cell_type": "markdown",
   "id": "cdde1833",
   "metadata": {},
   "source": [
    "Q4 (b)\n",
    "\n",
    "Log odds of orange versus apple: $\\frac{\\hat{Pr}(Y=orange| X=x)}{1-\\hat{Pr}(Y=orange | X=x)}=\\frac{exp(\\hat{\\alpha}_{orange0}+\\hat{\\alpha}_{orange1}*x)}{exp(\\hat{\\alpha}_{apple0}+\\hat{\\alpha}_{apple1}*x)}$\n",
    "\n",
    "$log(\\frac{\\hat{Pr}(Y=orange| X=x)}{1-\\hat{Pr}(Y=orange | X=x)})=(\\hat{\\alpha}_{orange0}-\\hat{\\alpha}_{apple0})+(\\hat{\\alpha}_{orange1}-\\hat{\\alpha}_{apple1})*x$\n",
    "\n",
    "This shows that in the softmax model, log odds are still a linear function of x, but coefficients are differences between the parameters associated with each class."
   ]
  },
  {
   "cell_type": "markdown",
   "id": "a75d1c13",
   "metadata": {},
   "source": [
    "Q4 (c)\n",
    "\n",
    "That means \n",
    "\n",
    "$\\hat{\\alpha}_{orange0}-\\hat{\\alpha}_{apple0}=\\hat{\\beta}_0=2$ \n",
    "\n",
    "$\\hat{\\alpha}_{orange1}-\\hat{\\alpha}_{apple1}=\\hat{\\beta}_1=-1$ \n"
   ]
  },
  {
   "cell_type": "markdown",
   "id": "791d12de",
   "metadata": {},
   "source": [
    "Q5 (a)\n",
    "\n",
    "The model follows:\n",
    "\n",
    "$\\hat{p(X)}=\\frac{exp(\\beta_0+\\beta_1x_1+\\beta_2x_2)}{1+exp(\\beta_0+\\beta_1x_1+\\beta_2x_2)}$\n",
    ",  where $\\beta_0=-4, \\beta_1=0.05, \\beta_2=1$\n",
    "\n",
    "When $x_1=5$ and $x_2=3.5$,  $\\hat{p(X)}=\\frac{exp(-0.25)}{1+exp(-0.25)}\\approx{0.43782}$"
   ]
  },
  {
   "cell_type": "markdown",
   "id": "ca4be693",
   "metadata": {},
   "source": [
    "Q5（b）\n",
    "\n",
    "Odds of getting an A: $\\frac{\\hat{p(X)}}{1-\\hat{p(X)}}\\approx{0.7793}$"
   ]
  },
  {
   "cell_type": "markdown",
   "id": "24a93287",
   "metadata": {},
   "source": [
    "Q5 (c)\n",
    "\n",
    "Solve $\\frac{exp(\\beta_0+\\beta_1x_1+\\beta_2x_2)}{1+exp(\\beta_0+\\beta_1x_1+\\beta_2x_2)}=0.5$, where $x_2=3.5$\n",
    "\n",
    "So, $x_1=10$"
   ]
  },
  {
   "cell_type": "markdown",
   "id": "86c9e45c",
   "metadata": {},
   "source": [
    "Q6 (a)\n",
    "\n"
   ]
  },
  {
   "cell_type": "code",
   "execution_count": 10,
   "id": "09c227ae",
   "metadata": {},
   "outputs": [],
   "source": [
    "import pandas as pd\n",
    "import numpy as np\n",
    "from sklearn.linear_model import LogisticRegression\n",
    "from sklearn.metrics import confusion_matrix"
   ]
  },
  {
   "cell_type": "code",
   "execution_count": 11,
   "id": "9fe0dd87",
   "metadata": {},
   "outputs": [],
   "source": [
    "college_train=pd.read_csv(\"./dataset/college_train.csv\")\n",
    "college_test=pd.read_csv(\"./dataset/college_test.csv\")"
   ]
  },
  {
   "cell_type": "code",
   "execution_count": 12,
   "id": "a0bd21b9",
   "metadata": {},
   "outputs": [],
   "source": [
    "Y_train=college_train[\"Private\"].map({\"Yes\": 1, \"No\": 0})\n",
    "X_train=college_train.drop(columns=[\"Private\",\"Name\"])"
   ]
  },
  {
   "cell_type": "code",
   "execution_count": 13,
   "id": "fe8cbad4",
   "metadata": {},
   "outputs": [],
   "source": [
    "Y_test=college_test[\"Private\"].map({\"Yes\": 1, \"No\": 0})\n",
    "X_test=college_test.drop(columns=[\"Private\",\"Name\"])"
   ]
  },
  {
   "cell_type": "code",
   "execution_count": 14,
   "id": "9763c9ce",
   "metadata": {},
   "outputs": [
    {
     "name": "stderr",
     "output_type": "stream",
     "text": [
      "E:\\ana\\lib\\site-packages\\sklearn\\linear_model\\_logistic.py:458: ConvergenceWarning: lbfgs failed to converge (status=1):\n",
      "STOP: TOTAL NO. of ITERATIONS REACHED LIMIT.\n",
      "\n",
      "Increase the number of iterations (max_iter) or scale the data as shown in:\n",
      "    https://scikit-learn.org/stable/modules/preprocessing.html\n",
      "Please also refer to the documentation for alternative solver options:\n",
      "    https://scikit-learn.org/stable/modules/linear_model.html#logistic-regression\n",
      "  n_iter_i = _check_optimize_result(\n"
     ]
    },
    {
     "data": {
      "text/html": [
       "<style>#sk-container-id-2 {color: black;background-color: white;}#sk-container-id-2 pre{padding: 0;}#sk-container-id-2 div.sk-toggleable {background-color: white;}#sk-container-id-2 label.sk-toggleable__label {cursor: pointer;display: block;width: 100%;margin-bottom: 0;padding: 0.3em;box-sizing: border-box;text-align: center;}#sk-container-id-2 label.sk-toggleable__label-arrow:before {content: \"▸\";float: left;margin-right: 0.25em;color: #696969;}#sk-container-id-2 label.sk-toggleable__label-arrow:hover:before {color: black;}#sk-container-id-2 div.sk-estimator:hover label.sk-toggleable__label-arrow:before {color: black;}#sk-container-id-2 div.sk-toggleable__content {max-height: 0;max-width: 0;overflow: hidden;text-align: left;background-color: #f0f8ff;}#sk-container-id-2 div.sk-toggleable__content pre {margin: 0.2em;color: black;border-radius: 0.25em;background-color: #f0f8ff;}#sk-container-id-2 input.sk-toggleable__control:checked~div.sk-toggleable__content {max-height: 200px;max-width: 100%;overflow: auto;}#sk-container-id-2 input.sk-toggleable__control:checked~label.sk-toggleable__label-arrow:before {content: \"▾\";}#sk-container-id-2 div.sk-estimator input.sk-toggleable__control:checked~label.sk-toggleable__label {background-color: #d4ebff;}#sk-container-id-2 div.sk-label input.sk-toggleable__control:checked~label.sk-toggleable__label {background-color: #d4ebff;}#sk-container-id-2 input.sk-hidden--visually {border: 0;clip: rect(1px 1px 1px 1px);clip: rect(1px, 1px, 1px, 1px);height: 1px;margin: -1px;overflow: hidden;padding: 0;position: absolute;width: 1px;}#sk-container-id-2 div.sk-estimator {font-family: monospace;background-color: #f0f8ff;border: 1px dotted black;border-radius: 0.25em;box-sizing: border-box;margin-bottom: 0.5em;}#sk-container-id-2 div.sk-estimator:hover {background-color: #d4ebff;}#sk-container-id-2 div.sk-parallel-item::after {content: \"\";width: 100%;border-bottom: 1px solid gray;flex-grow: 1;}#sk-container-id-2 div.sk-label:hover label.sk-toggleable__label {background-color: #d4ebff;}#sk-container-id-2 div.sk-serial::before {content: \"\";position: absolute;border-left: 1px solid gray;box-sizing: border-box;top: 0;bottom: 0;left: 50%;z-index: 0;}#sk-container-id-2 div.sk-serial {display: flex;flex-direction: column;align-items: center;background-color: white;padding-right: 0.2em;padding-left: 0.2em;position: relative;}#sk-container-id-2 div.sk-item {position: relative;z-index: 1;}#sk-container-id-2 div.sk-parallel {display: flex;align-items: stretch;justify-content: center;background-color: white;position: relative;}#sk-container-id-2 div.sk-item::before, #sk-container-id-2 div.sk-parallel-item::before {content: \"\";position: absolute;border-left: 1px solid gray;box-sizing: border-box;top: 0;bottom: 0;left: 50%;z-index: -1;}#sk-container-id-2 div.sk-parallel-item {display: flex;flex-direction: column;z-index: 1;position: relative;background-color: white;}#sk-container-id-2 div.sk-parallel-item:first-child::after {align-self: flex-end;width: 50%;}#sk-container-id-2 div.sk-parallel-item:last-child::after {align-self: flex-start;width: 50%;}#sk-container-id-2 div.sk-parallel-item:only-child::after {width: 0;}#sk-container-id-2 div.sk-dashed-wrapped {border: 1px dashed gray;margin: 0 0.4em 0.5em 0.4em;box-sizing: border-box;padding-bottom: 0.4em;background-color: white;}#sk-container-id-2 div.sk-label label {font-family: monospace;font-weight: bold;display: inline-block;line-height: 1.2em;}#sk-container-id-2 div.sk-label-container {text-align: center;}#sk-container-id-2 div.sk-container {/* jupyter's `normalize.less` sets `[hidden] { display: none; }` but bootstrap.min.css set `[hidden] { display: none !important; }` so we also need the `!important` here to be able to override the default hidden behavior on the sphinx rendered scikit-learn.org. See: https://github.com/scikit-learn/scikit-learn/issues/21755 */display: inline-block !important;position: relative;}#sk-container-id-2 div.sk-text-repr-fallback {display: none;}</style><div id=\"sk-container-id-2\" class=\"sk-top-container\"><div class=\"sk-text-repr-fallback\"><pre>LogisticRegression(max_iter=1000)</pre><b>In a Jupyter environment, please rerun this cell to show the HTML representation or trust the notebook. <br />On GitHub, the HTML representation is unable to render, please try loading this page with nbviewer.org.</b></div><div class=\"sk-container\" hidden><div class=\"sk-item\"><div class=\"sk-estimator sk-toggleable\"><input class=\"sk-toggleable__control sk-hidden--visually\" id=\"sk-estimator-id-2\" type=\"checkbox\" checked><label for=\"sk-estimator-id-2\" class=\"sk-toggleable__label sk-toggleable__label-arrow\">LogisticRegression</label><div class=\"sk-toggleable__content\"><pre>LogisticRegression(max_iter=1000)</pre></div></div></div></div></div>"
      ],
      "text/plain": [
       "LogisticRegression(max_iter=1000)"
      ]
     },
     "execution_count": 14,
     "metadata": {},
     "output_type": "execute_result"
    }
   ],
   "source": [
    "model = LogisticRegression(max_iter=1000)\n",
    "model.fit(X_train, Y_train)"
   ]
  },
  {
   "cell_type": "code",
   "execution_count": 15,
   "id": "83aa0e62",
   "metadata": {},
   "outputs": [
    {
     "name": "stdout",
     "output_type": "stream",
     "text": [
      "Negative Log-Likelihood: 16.7247\n"
     ]
    }
   ],
   "source": [
    "y_probs=model.predict_proba(X_test)\n",
    "nll=-np.sum(np.log(y_probs[np.arange(len(Y_test)), Y_test]))\n",
    "print(f\"Negative Log-Likelihood: {nll:.4f}\")"
   ]
  },
  {
   "cell_type": "markdown",
   "id": "a5f4223f",
   "metadata": {},
   "source": [
    "Q6 (b)"
   ]
  },
  {
   "cell_type": "code",
   "execution_count": 16,
   "id": "e23c3b38",
   "metadata": {},
   "outputs": [],
   "source": [
    "y_probs = model.predict_proba(X_test)[:, 1]  # Probability of \"Yes\"\n",
    "y_pred = [\"Yes\" if p > 0.5 else \"No\" for p in y_probs]"
   ]
  },
  {
   "cell_type": "code",
   "execution_count": 17,
   "id": "5db6d514",
   "metadata": {},
   "outputs": [],
   "source": [
    "y_pred_binary = [1 if label == \"Yes\" else 0 for label in y_pred]  "
   ]
  },
  {
   "cell_type": "code",
   "execution_count": 18,
   "id": "2eefae8d",
   "metadata": {},
   "outputs": [
    {
     "name": "stdout",
     "output_type": "stream",
     "text": [
      "False Positive Rate (FPR): 0.0303\n",
      "True Positive Rate (TPR): 0.9468\n",
      "False Negative Rate (FNR): 0.0532\n",
      "True Negative Rate (TNR): 0.9697\n"
     ]
    }
   ],
   "source": [
    "tn,fp,fn,tp=confusion_matrix(Y_test, y_pred_binary).ravel()\n",
    "\n",
    "FPR=fp/(fp+tn)  # False Positive Rate\n",
    "TPR=tp/(tp+fn)  # True Positive Rate (Recall)\n",
    "FNR=fn/(fn+tp)  # False Negative Rate\n",
    "TNR=tn/(tn+fp)\n",
    "\n",
    "print(f\"False Positive Rate (FPR): {FPR:.4f}\")\n",
    "print(f\"True Positive Rate (TPR): {TPR:.4f}\")\n",
    "print(f\"False Negative Rate (FNR): {FNR:.4f}\")\n",
    "print(f\"True Negative Rate (TNR): {TNR:.4f}\")"
   ]
  },
  {
   "cell_type": "markdown",
   "id": "9d429b2d",
   "metadata": {},
   "source": [
    "Q6 (c)\n",
    "\n"
   ]
  },
  {
   "cell_type": "code",
   "execution_count": 19,
   "id": "807c71e4",
   "metadata": {},
   "outputs": [],
   "source": [
    "y_probs = model.predict_proba(X_test)[:, 1]  # Probability of \"Yes\"\n",
    "y_pred = [\"Yes\" if p > 0.9 else \"No\" for p in y_probs]\n",
    "y_pred_binary = [1 if label == \"Yes\" else 0 for label in y_pred]  "
   ]
  },
  {
   "cell_type": "code",
   "execution_count": 20,
   "id": "51995318",
   "metadata": {},
   "outputs": [
    {
     "name": "stdout",
     "output_type": "stream",
     "text": [
      "False Positive Rate (FPR): 0.0303\n",
      "True Positive Rate (TPR): 0.7766\n",
      "False Negative Rate (FNR): 0.2234\n",
      "True Negative Rate (TNR): 0.9697\n"
     ]
    }
   ],
   "source": [
    "tn,fp,fn,tp=confusion_matrix(Y_test, y_pred_binary).ravel()\n",
    "\n",
    "FPR=fp/(fp+tn) \n",
    "TPR=tp/(tp+fn) \n",
    "FNR=fn/(fn+tp)  \n",
    "TNR=tn/(tn+fp)\n",
    "\n",
    "print(f\"False Positive Rate (FPR): {FPR:.4f}\")\n",
    "print(f\"True Positive Rate (TPR): {TPR:.4f}\")\n",
    "print(f\"False Negative Rate (FNR): {FNR:.4f}\")\n",
    "print(f\"True Negative Rate (TNR): {TNR:.4f}\")"
   ]
  },
  {
   "cell_type": "markdown",
   "id": "c2689595",
   "metadata": {},
   "source": [
    "Q6 (d)"
   ]
  },
  {
   "cell_type": "code",
   "execution_count": 21,
   "id": "e25fb0f2",
   "metadata": {},
   "outputs": [],
   "source": [
    "import matplotlib.pyplot as plt"
   ]
  },
  {
   "cell_type": "code",
   "execution_count": 22,
   "id": "b5c8aae3",
   "metadata": {},
   "outputs": [],
   "source": [
    "y_probs = model.predict_proba(X_test)[:, 1]\n",
    "thresholds = np.linspace(0, 1, 101)  # Values from 0 to 1 with step 0.01\n",
    "fpr_list = []\n",
    "tpr_list = []"
   ]
  },
  {
   "cell_type": "code",
   "execution_count": 23,
   "id": "0382aa9b",
   "metadata": {},
   "outputs": [],
   "source": [
    "for t in thresholds:\n",
    "    y_pred = (y_probs>t).astype(int) \n",
    "\n",
    "    tn, fp, fn, tp = confusion_matrix(Y_test, y_pred).ravel()\n",
    "    fpr = fp / (fp + tn) if (fp + tn) > 0 else 0\n",
    "    tpr = tp / (tp + fn) if (tp + fn) > 0 else 0\n",
    "\n",
    "    fpr_list.append(fpr)\n",
    "    tpr_list.append(tpr)\n",
    "    "
   ]
  },
  {
   "cell_type": "code",
   "execution_count": 24,
   "id": "6b63021a",
   "metadata": {},
   "outputs": [
    {
     "data": {
      "image/png": "[encoded data removed]",
      "text/plain": [
       "<Figure size 576x432 with 1 Axes>"
      ]
     },
     "metadata": {
      "needs_background": "light"
     },
     "output_type": "display_data"
    }
   ],
   "source": [
    "plt.figure(figsize=(8,6))\n",
    "plt.plot(fpr_list, tpr_list, marker='o', linestyle='-', color='y', label=\"ROC Curve\")\n",
    "plt.plot([0, 1], [0, 1], linestyle='--', color='gray', label=\"Random Classifier\")\n",
    "plt.xlabel(\"False Positive Rate (FPR)\")\n",
    "plt.ylabel(\"True Positive Rate (TPR)\")\n",
    "plt.title(\"ROC Curve\")\n",
    "plt.legend()\n",
    "plt.show()"
   ]
  },
  {
   "cell_type": "markdown",
   "id": "1bc5112c",
   "metadata": {},
   "source": [
    "Q6 (e)"
   ]
  },
  {
   "cell_type": "code",
   "execution_count": 25,
   "id": "e797dc37",
   "metadata": {},
   "outputs": [],
   "source": [
    "from sklearn.metrics import roc_auc_score"
   ]
  },
  {
   "cell_type": "code",
   "execution_count": 26,
   "id": "ea44f5fd",
   "metadata": {},
   "outputs": [
    {
     "name": "stdout",
     "output_type": "stream",
     "text": [
      "ROC AUC Score: 0.9877\n"
     ]
    }
   ],
   "source": [
    "y_probs = model.predict_proba(X_test)[:, 1] \n",
    "auc_score = roc_auc_score(Y_test, y_probs)\n",
    "print(f\"ROC AUC Score: {auc_score:.4f}\")"
   ]
  },
  {
   "cell_type": "code",
   "execution_count": 27,
   "id": "2644d2d6",
   "metadata": {},
   "outputs": [
    {
     "name": "stdout",
     "output_type": "stream",
     "text": [
      "1.26.4\n"
     ]
    }
   ],
   "source": [
    "import numpy\n",
    "print(numpy.__version__)\n",
    "#2.2.3"
   ]
  },
  {
   "cell_type": "code",
   "execution_count": 28,
   "id": "925bf61a",
   "metadata": {},
   "outputs": [],
   "source": [
    "# !pip install pandas==2.2.3"
   ]
  },
  {
   "cell_type": "code",
   "execution_count": 29,
   "id": "c7d823ef",
   "metadata": {},
   "outputs": [
    {
     "name": "stdout",
     "output_type": "stream",
     "text": [
      "1.2.2\n"
     ]
    }
   ],
   "source": [
    "import sklearn\n",
    "print(sklearn.__version__)"
   ]
  },
  {
   "cell_type": "code",
   "execution_count": 30,
   "id": "1266adba",
   "metadata": {},
   "outputs": [
    {
     "name": "stdout",
     "output_type": "stream",
     "text": [
      "2.2.3\n"
     ]
    }
   ],
   "source": [
    "import pandas\n",
    "print(pandas.__version__)"
   ]
  },
  {
   "cell_type": "code",
   "execution_count": null,
   "id": "4699c50f",
   "metadata": {},
   "outputs": [],
   "source": []
  }
 ],
 "metadata": {
  "kernelspec": {
   "display_name": "Python 3 (ipykernel)",
   "language": "python",
   "name": "python3"
  },
  "language_info": {
   "codemirror_mode": {
    "name": "ipython",
    "version": 3
   },
   "file_extension": ".py",
   "mimetype": "text/x-python",
   "name": "python",
   "nbconvert_exporter": "python",
   "pygments_lexer": "ipython3",
   "version": "3.9.12"
  }
 },
 "nbformat": 4,
 "nbformat_minor": 5
}
